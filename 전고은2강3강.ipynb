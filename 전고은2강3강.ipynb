{
  "nbformat": 4,
  "nbformat_minor": 0,
  "metadata": {
    "colab": {
      "name": "전고은2강3강.ipynb",
      "provenance": [],
      "authorship_tag": "ABX9TyNIvu6m5tyfbB/PAB0wsq85",
      "include_colab_link": true
    },
    "kernelspec": {
      "name": "python3",
      "display_name": "Python 3"
    },
    "language_info": {
      "name": "python"
    }
  },
  "cells": [
    {
      "cell_type": "markdown",
      "metadata": {
        "id": "view-in-github",
        "colab_type": "text"
      },
      "source": [
        "<a href=\"https://colab.research.google.com/github/Jeongoeun/Knu_bdna_2022/blob/main/%EC%A0%84%EA%B3%A0%EC%9D%802%EA%B0%953%EA%B0%95.ipynb\" target=\"_parent\"><img src=\"https://colab.research.google.com/assets/colab-badge.svg\" alt=\"Open In Colab\"/></a>"
      ]
    },
    {
      "cell_type": "code",
      "execution_count": 1,
      "metadata": {
        "id": "7TG_p79S9-hf"
      },
      "outputs": [],
      "source": [
        "import numpy as np"
      ]
    },
    {
      "cell_type": "code",
      "source": [
        "np.__version__"
      ],
      "metadata": {
        "colab": {
          "base_uri": "https://localhost:8080/",
          "height": 35
        },
        "id": "3U4ajoS_-j8F",
        "outputId": "cb769013-e14f-4b11-c89c-241ed6a9ac37"
      },
      "execution_count": 3,
      "outputs": [
        {
          "output_type": "execute_result",
          "data": {
            "text/plain": [
              "'1.21.5'"
            ],
            "application/vnd.google.colaboratory.intrinsic+json": {
              "type": "string"
            }
          },
          "metadata": {},
          "execution_count": 3
        }
      ]
    },
    {
      "cell_type": "code",
      "source": [
        "a=np.array((1,2,3), dtype=float)\n",
        "print(a)"
      ],
      "metadata": {
        "colab": {
          "base_uri": "https://localhost:8080/"
        },
        "id": "T_WSa3ES-osu",
        "outputId": "d689cd4a-289c-471c-ee5d-e44785580614"
      },
      "execution_count": 5,
      "outputs": [
        {
          "output_type": "stream",
          "name": "stdout",
          "text": [
            "[1. 2. 3.]\n"
          ]
        }
      ]
    },
    {
      "cell_type": "code",
      "source": [
        "a=np.array([(1,2,3),(4,5,6)], dtype=float)\n",
        "print(a)"
      ],
      "metadata": {
        "colab": {
          "base_uri": "https://localhost:8080/"
        },
        "id": "bEcUeBHG_QKQ",
        "outputId": "06c6acaa-6ba1-4500-bd7e-1d9acbbfc807"
      },
      "execution_count": 7,
      "outputs": [
        {
          "output_type": "stream",
          "name": "stdout",
          "text": [
            "[[1. 2. 3.]\n",
            " [4. 5. 6.]]\n"
          ]
        }
      ]
    },
    {
      "cell_type": "code",
      "source": [
        "a=np.array([[[1,2,3],[4,5,6]],[[3,2,1],[4,5,6]]], dtype=float)\n",
        "print(a)"
      ],
      "metadata": {
        "colab": {
          "base_uri": "https://localhost:8080/"
        },
        "id": "GfM95Mq1_Or8",
        "outputId": "ea445a22-3e3f-4e52-aaf0-5f0ce94f5b1d"
      },
      "execution_count": 8,
      "outputs": [
        {
          "output_type": "stream",
          "name": "stdout",
          "text": [
            "[[[1. 2. 3.]\n",
            "  [4. 5. 6.]]\n",
            "\n",
            " [[3. 2. 1.]\n",
            "  [4. 5. 6.]]]\n"
          ]
        }
      ]
    },
    {
      "cell_type": "code",
      "source": [
        "a=np.zeros((4))\n",
        "print(a)"
      ],
      "metadata": {
        "colab": {
          "base_uri": "https://localhost:8080/"
        },
        "id": "YrP758Yq__u0",
        "outputId": "3dee69f5-92a3-4376-f5fe-97c1b755815d"
      },
      "execution_count": 11,
      "outputs": [
        {
          "output_type": "stream",
          "name": "stdout",
          "text": [
            "[0. 0. 0. 0.]\n"
          ]
        }
      ]
    },
    {
      "cell_type": "code",
      "source": [
        "a=np.zeros((3,4))\n",
        "print(a)"
      ],
      "metadata": {
        "colab": {
          "base_uri": "https://localhost:8080/"
        },
        "id": "UofY5zHKALjW",
        "outputId": "9108e09b-332f-44d3-ce4d-df161aebe14d"
      },
      "execution_count": 12,
      "outputs": [
        {
          "output_type": "stream",
          "name": "stdout",
          "text": [
            "[[0. 0. 0. 0.]\n",
            " [0. 0. 0. 0.]\n",
            " [0. 0. 0. 0.]]\n"
          ]
        }
      ]
    },
    {
      "cell_type": "code",
      "source": [
        "a=np.zeros((2,3,4))\n",
        "print(a)"
      ],
      "metadata": {
        "colab": {
          "base_uri": "https://localhost:8080/"
        },
        "id": "0SCr5Z2hAVyY",
        "outputId": "90549486-0bcc-492b-83e2-c0d65fbdbf4b"
      },
      "execution_count": 13,
      "outputs": [
        {
          "output_type": "stream",
          "name": "stdout",
          "text": [
            "[[[0. 0. 0. 0.]\n",
            "  [0. 0. 0. 0.]\n",
            "  [0. 0. 0. 0.]]\n",
            "\n",
            " [[0. 0. 0. 0.]\n",
            "  [0. 0. 0. 0.]\n",
            "  [0. 0. 0. 0.]]]\n"
          ]
        }
      ]
    },
    {
      "cell_type": "code",
      "source": [
        "a=np.eye(4,dtype=float)\n",
        "print(a)"
      ],
      "metadata": {
        "colab": {
          "base_uri": "https://localhost:8080/"
        },
        "id": "UuhiiekDAlBT",
        "outputId": "c21c5502-b489-42c6-efae-6876f07ed6f2"
      },
      "execution_count": 15,
      "outputs": [
        {
          "output_type": "stream",
          "name": "stdout",
          "text": [
            "[[1. 0. 0. 0.]\n",
            " [0. 1. 0. 0.]\n",
            " [0. 0. 1. 0.]\n",
            " [0. 0. 0. 1.]]\n"
          ]
        }
      ]
    },
    {
      "cell_type": "code",
      "source": [
        "a=np.array([(1,2,3),(4,5,6)], dtype=float)\n",
        "b=np.ones_like(a)\n",
        "print(a)"
      ],
      "metadata": {
        "colab": {
          "base_uri": "https://localhost:8080/"
        },
        "id": "4VOzMA-QA0cC",
        "outputId": "8ef01a9a-b3eb-42c4-ba97-bb02257944ac"
      },
      "execution_count": 16,
      "outputs": [
        {
          "output_type": "stream",
          "name": "stdout",
          "text": [
            "[[1. 2. 3.]\n",
            " [4. 5. 6.]]\n"
          ]
        }
      ]
    },
    {
      "cell_type": "code",
      "source": [
        "a=np.array([(1,2,3),(4,5,6)], dtype=float)\n",
        "b=np.ones_like(a)\n",
        "print(b)"
      ],
      "metadata": {
        "colab": {
          "base_uri": "https://localhost:8080/"
        },
        "id": "D6O_caeoAukS",
        "outputId": "c6e0da3c-fb77-43a4-d374-1bd93042a7be"
      },
      "execution_count": 17,
      "outputs": [
        {
          "output_type": "stream",
          "name": "stdout",
          "text": [
            "[[1. 1. 1.]\n",
            " [1. 1. 1.]]\n"
          ]
        }
      ]
    },
    {
      "cell_type": "code",
      "source": [
        "a=np.array([(1,2,3),(4,5,6)], dtype=float)\n",
        "b=np.zeros_like(a)\n",
        "print(b)"
      ],
      "metadata": {
        "colab": {
          "base_uri": "https://localhost:8080/"
        },
        "id": "TJviLW3LBYCA",
        "outputId": "d12cbd51-a40f-4c6d-d8f7-cd20d5d8e4a0"
      },
      "execution_count": 18,
      "outputs": [
        {
          "output_type": "stream",
          "name": "stdout",
          "text": [
            "[[0. 0. 0.]\n",
            " [0. 0. 0.]]\n"
          ]
        }
      ]
    },
    {
      "cell_type": "code",
      "source": [
        "arr=np.array([(1,2,3),(4,5,6)],dtype=float)\n",
        "print(arr)"
      ],
      "metadata": {
        "colab": {
          "base_uri": "https://localhost:8080/"
        },
        "id": "06ZaVx0nBkDX",
        "outputId": "f9093852-caa5-46e0-f854-1626e23067d8"
      },
      "execution_count": 20,
      "outputs": [
        {
          "output_type": "stream",
          "name": "stdout",
          "text": [
            "[[1. 2. 3.]\n",
            " [4. 5. 6.]]\n"
          ]
        }
      ]
    },
    {
      "cell_type": "code",
      "source": [
        "arr.shape"
      ],
      "metadata": {
        "colab": {
          "base_uri": "https://localhost:8080/"
        },
        "id": "S3nBfyT7B1P0",
        "outputId": "36c696c7-591b-4f52-de29-31274b96624e"
      },
      "execution_count": 22,
      "outputs": [
        {
          "output_type": "execute_result",
          "data": {
            "text/plain": [
              "(2, 3)"
            ]
          },
          "metadata": {},
          "execution_count": 22
        }
      ]
    },
    {
      "cell_type": "code",
      "source": [
        "len(arr)"
      ],
      "metadata": {
        "colab": {
          "base_uri": "https://localhost:8080/"
        },
        "id": "IylEjAB5CBeO",
        "outputId": "7bccdc53-bef5-46ea-917a-6582066c1ed8"
      },
      "execution_count": 23,
      "outputs": [
        {
          "output_type": "execute_result",
          "data": {
            "text/plain": [
              "2"
            ]
          },
          "metadata": {},
          "execution_count": 23
        }
      ]
    },
    {
      "cell_type": "code",
      "source": [
        "arr.ndim"
      ],
      "metadata": {
        "colab": {
          "base_uri": "https://localhost:8080/"
        },
        "id": "uc99OkSFCFby",
        "outputId": "2d926b1c-e5cc-403f-c8a8-56961169b477"
      },
      "execution_count": 24,
      "outputs": [
        {
          "output_type": "execute_result",
          "data": {
            "text/plain": [
              "2"
            ]
          },
          "metadata": {},
          "execution_count": 24
        }
      ]
    },
    {
      "cell_type": "code",
      "source": [
        "arr.dtype"
      ],
      "metadata": {
        "colab": {
          "base_uri": "https://localhost:8080/"
        },
        "id": "e6oCmy8zCG3h",
        "outputId": "a2994d6f-cd68-43a3-8def-68b14e2aaf70"
      },
      "execution_count": 25,
      "outputs": [
        {
          "output_type": "execute_result",
          "data": {
            "text/plain": [
              "dtype('float64')"
            ]
          },
          "metadata": {},
          "execution_count": 25
        }
      ]
    },
    {
      "cell_type": "code",
      "source": [
        "a=np.linspace(0,1,5)\n",
        "print(a)"
      ],
      "metadata": {
        "colab": {
          "base_uri": "https://localhost:8080/"
        },
        "id": "dKV6DWkFCJgr",
        "outputId": "15cee12c-2a01-4d69-ab37-ae2c477ef794"
      },
      "execution_count": 26,
      "outputs": [
        {
          "output_type": "stream",
          "name": "stdout",
          "text": [
            "[0.   0.25 0.5  0.75 1.  ]\n"
          ]
        }
      ]
    },
    {
      "cell_type": "code",
      "source": [
        "a=np.arange(1,10,2, np.float)\n",
        "print(a)"
      ],
      "metadata": {
        "colab": {
          "base_uri": "https://localhost:8080/"
        },
        "id": "s7vp6eRcCU6U",
        "outputId": "03b4587a-bcd0-432b-d219-5e692c870326"
      },
      "execution_count": 28,
      "outputs": [
        {
          "output_type": "stream",
          "name": "stdout",
          "text": [
            "[1. 3. 5. 7. 9.]\n"
          ]
        },
        {
          "output_type": "stream",
          "name": "stderr",
          "text": [
            "/usr/local/lib/python3.7/dist-packages/ipykernel_launcher.py:1: DeprecationWarning: `np.float` is a deprecated alias for the builtin `float`. To silence this warning, use `float` by itself. Doing this will not modify any behavior and is safe. If you specifically wanted the numpy scalar type, use `np.float64` here.\n",
            "Deprecated in NumPy 1.20; for more details and guidance: https://numpy.org/devdocs/release/1.20.0-notes.html#deprecations\n",
            "  \"\"\"Entry point for launching an IPython kernel.\n"
          ]
        }
      ]
    },
    {
      "cell_type": "code",
      "source": [
        "a=np.logspace(0,10,4)\n",
        "print(a)"
      ],
      "metadata": {
        "colab": {
          "base_uri": "https://localhost:8080/"
        },
        "id": "FIYfiNepCfdc",
        "outputId": "c2918e02-cee6-4cfb-9fa3-adf4d7ae0382"
      },
      "execution_count": 30,
      "outputs": [
        {
          "output_type": "stream",
          "name": "stdout",
          "text": [
            "[1.00000000e+00 2.15443469e+03 4.64158883e+06 1.00000000e+10]\n"
          ]
        }
      ]
    },
    {
      "cell_type": "code",
      "source": [
        "a=np.arange(1,10).reshape(3,3)\n",
        "print(a)"
      ],
      "metadata": {
        "colab": {
          "base_uri": "https://localhost:8080/"
        },
        "id": "XTyw_IHAC7Vl",
        "outputId": "3edec885-3f7f-41e6-af5b-6398b175e7d4"
      },
      "execution_count": 33,
      "outputs": [
        {
          "output_type": "stream",
          "name": "stdout",
          "text": [
            "[[1 2 3]\n",
            " [4 5 6]\n",
            " [7 8 9]]\n"
          ]
        }
      ]
    },
    {
      "cell_type": "code",
      "source": [
        "b=np.arange(9,0,-1).reshape(3,3)\n",
        "print(b)"
      ],
      "metadata": {
        "colab": {
          "base_uri": "https://localhost:8080/"
        },
        "id": "5kQ8pdFsDJlC",
        "outputId": "96cf5922-9a17-4b0c-b90e-9ebbfea7f993"
      },
      "execution_count": 35,
      "outputs": [
        {
          "output_type": "stream",
          "name": "stdout",
          "text": [
            "[[9 8 7]\n",
            " [6 5 4]\n",
            " [3 2 1]]\n"
          ]
        }
      ]
    },
    {
      "cell_type": "code",
      "source": [
        "c=np.add(a,b)\n",
        "print(c)"
      ],
      "metadata": {
        "colab": {
          "base_uri": "https://localhost:8080/"
        },
        "id": "oJWelc6wD0W_",
        "outputId": "59a49983-ba48-447c-9a36-ba2af5a88193"
      },
      "execution_count": 36,
      "outputs": [
        {
          "output_type": "stream",
          "name": "stdout",
          "text": [
            "[[10 10 10]\n",
            " [10 10 10]\n",
            " [10 10 10]]\n"
          ]
        }
      ]
    },
    {
      "cell_type": "code",
      "source": [
        "d=np.subtract(a,b)\n",
        "print(d)"
      ],
      "metadata": {
        "colab": {
          "base_uri": "https://localhost:8080/"
        },
        "id": "ZIxe__7IDXgl",
        "outputId": "1703ae8c-1d87-4fab-ccf9-12c7060539a2"
      },
      "execution_count": 37,
      "outputs": [
        {
          "output_type": "stream",
          "name": "stdout",
          "text": [
            "[[-8 -6 -4]\n",
            " [-2  0  2]\n",
            " [ 4  6  8]]\n"
          ]
        }
      ]
    },
    {
      "cell_type": "code",
      "source": [
        "c=np.dot(a,b)\n",
        "print(c)"
      ],
      "metadata": {
        "colab": {
          "base_uri": "https://localhost:8080/"
        },
        "id": "iTNMzMziEMOX",
        "outputId": "807c08b6-a2a9-43c8-85b8-95b81832f2d7"
      },
      "execution_count": 39,
      "outputs": [
        {
          "output_type": "stream",
          "name": "stdout",
          "text": [
            "[[ 30  24  18]\n",
            " [ 84  69  54]\n",
            " [138 114  90]]\n"
          ]
        }
      ]
    },
    {
      "cell_type": "code",
      "source": [
        "import matplotlib.pyplot as plt\n"
      ],
      "metadata": {
        "id": "6YOjjyZ3ESYc"
      },
      "execution_count": 40,
      "outputs": []
    },
    {
      "cell_type": "code",
      "source": [
        "from matplotlib import pyplot as plt"
      ],
      "metadata": {
        "id": "sNdEPuRPEhj7"
      },
      "execution_count": 41,
      "outputs": []
    },
    {
      "cell_type": "code",
      "source": [
        "plt.plot([1,2,3],[10,20,-10])\n",
        "plt.show()"
      ],
      "metadata": {
        "colab": {
          "base_uri": "https://localhost:8080/",
          "height": 265
        },
        "id": "MAiN9oyuEoZ_",
        "outputId": "84875651-9363-43a5-ec7c-c0ada0c730d0"
      },
      "execution_count": 45,
      "outputs": [
        {
          "output_type": "display_data",
          "data": {
            "text/plain": [
              "<Figure size 432x288 with 1 Axes>"
            ],
            "image/png": "[encoded data removed]"
          },
          "metadata": {
            "needs_background": "light"
          }
        }
      ]
    },
    {
      "cell_type": "code",
      "source": [
        "plt.plot([10,20,-10])\n",
        "plt.show()"
      ],
      "metadata": {
        "colab": {
          "base_uri": "https://localhost:8080/",
          "height": 265
        },
        "id": "neWn_C-YE3jE",
        "outputId": "21b2b34e-63b9-49a0-b455-a22506f87962"
      },
      "execution_count": 46,
      "outputs": [
        {
          "output_type": "display_data",
          "data": {
            "text/plain": [
              "<Figure size 432x288 with 1 Axes>"
            ],
            "image/png": "[encoded data removed]"
          },
          "metadata": {
            "needs_background": "light"
          }
        }
      ]
    },
    {
      "cell_type": "code",
      "source": [
        "plt.plot([4,6,10,11],[10,20,25,30])\n",
        "plt.xlabel('x-axis')\n",
        "plt.ylabel('y-axis')\n",
        "plt.title('Data')\n",
        "plt.show()"
      ],
      "metadata": {
        "colab": {
          "base_uri": "https://localhost:8080/",
          "height": 295
        },
        "id": "8NiwxE04FUR0",
        "outputId": "4c9d47c4-5ac7-45f2-84a0-7e99450ef3b6"
      },
      "execution_count": 48,
      "outputs": [
        {
          "output_type": "display_data",
          "data": {
            "text/plain": [
              "<Figure size 432x288 with 1 Axes>"
            ],
            "image/png": "[encoded data removed]"
          },
          "metadata": {
            "needs_background": "light"
          }
        }
      ]
    },
    {
      "cell_type": "code",
      "source": [
        "x=np.linspace(0,2*np.pi,100)\n",
        "y=np.sin(x)\n",
        "plt.plot(x,y)\n",
        "plt.xlabel('x-axis')\n",
        "plt.ylabel('y-axis')\n",
        "plt.title('sin(x)')\n",
        "plt.show()"
      ],
      "metadata": {
        "colab": {
          "base_uri": "https://localhost:8080/",
          "height": 295
        },
        "id": "VC859g8GFwRN",
        "outputId": "df6d0651-10e8-4abe-9342-650762a7f820"
      },
      "execution_count": 49,
      "outputs": [
        {
          "output_type": "display_data",
          "data": {
            "text/plain": [
              "<Figure size 432x288 with 1 Axes>"
            ],
            "image/png": "[encoded data removed]"
          },
          "metadata": {
            "needs_background": "light"
          }
        }
      ]
    },
    {
      "cell_type": "code",
      "source": [
        "x=np.linspace(0,2*np.pi,100)\n",
        "y=np.sin(x)+np.cos(x)+10\n",
        "plt.plot(x,y)\n",
        "plt.xlabel('x-axis')\n",
        "plt.ylabel('y-axis')\n",
        "plt.title('sin(x)+cos(x)+10')\n",
        "plt.show()"
      ],
      "metadata": {
        "colab": {
          "base_uri": "https://localhost:8080/",
          "height": 295
        },
        "id": "yiLvlDh4GUMB",
        "outputId": "62edd751-65d4-40b2-9e47-63ef82b5482e"
      },
      "execution_count": 50,
      "outputs": [
        {
          "output_type": "display_data",
          "data": {
            "text/plain": [
              "<Figure size 432x288 with 1 Axes>"
            ],
            "image/png": "[encoded data removed]"
          },
          "metadata": {
            "needs_background": "light"
          }
        }
      ]
    },
    {
      "cell_type": "code",
      "source": [
        "x=np.linspace(0,2*np.pi,100)\n",
        "y1=np.sin(x)\n",
        "y2=np.sin(x)+np.cos(x)\n",
        "plt.plot(x,y1,x,y2)\n",
        "plt.xlabel('x-axis')\n",
        "plt.ylabel('y-axis')\n",
        "plt.title('Two functions')\n",
        "plt.legend(['sin(x)', 'sin(x)+cos(x)'])\n",
        "plt.show()"
      ],
      "metadata": {
        "colab": {
          "base_uri": "https://localhost:8080/",
          "height": 295
        },
        "id": "P7XClwhiGjFv",
        "outputId": "c819b9cd-36ca-4352-af9b-e49234c0e3f3"
      },
      "execution_count": 54,
      "outputs": [
        {
          "output_type": "display_data",
          "data": {
            "text/plain": [
              "<Figure size 432x288 with 1 Axes>"
            ],
            "image/png": "[encoded data removed]"
          },
          "metadata": {
            "needs_background": "light"
          }
        }
      ]
    },
    {
      "cell_type": "code",
      "source": [
        "x=np.linspace(0,2*np.pi,100)\n",
        "y1=np.sin(x)\n",
        "y2=np.sin(x)+np.cos(x)\n",
        "plt.plot(x,y1,x,y2)\n",
        "\n",
        "plt.xticks([0,np.pi,2*np.pi])\n",
        "plt.yticks([-1,0,+1])\n",
        "\n",
        "plt.xlabel('x-axis')\n",
        "plt.ylabel('y-axis')\n",
        "plt.title('Two functions')\n",
        "plt.legend(['sin(x)', 'sin(x)+cos(x)'])\n",
        "plt.show()"
      ],
      "metadata": {
        "colab": {
          "base_uri": "https://localhost:8080/",
          "height": 295
        },
        "id": "T5NdVgTSHCnz",
        "outputId": "8386f555-49d7-41c9-d57c-8bf83fdb7104"
      },
      "execution_count": 58,
      "outputs": [
        {
          "output_type": "display_data",
          "data": {
            "text/plain": [
              "<Figure size 432x288 with 1 Axes>"
            ],
            "image/png": "[encoded data removed]"
          },
          "metadata": {
            "needs_background": "light"
          }
        }
      ]
    },
    {
      "cell_type": "code",
      "source": [
        "x=np.linspace(0,2*np.pi,10)\n",
        "y1=np.sin(x)\n",
        "y2=np.sin(x)+np.cos(x)\n",
        "plt.plot(x,y1,'rp--',x,y2,'ks-')\n",
        "\n",
        "plt.xticks([0,np.pi,2*np.pi])\n",
        "plt.yticks([-1,0,+1])\n",
        "\n",
        "plt.xlabel('x-axis')\n",
        "plt.ylabel('y-axis')\n",
        "plt.title('Two functions')\n",
        "plt.legend(['sin(x)', 'sin(x)+cos(x)'])\n",
        "plt.show()"
      ],
      "metadata": {
        "colab": {
          "base_uri": "https://localhost:8080/",
          "height": 295
        },
        "id": "gV3UQzt5H-SK",
        "outputId": "58d6cd90-b67a-4d2a-e2b9-bb4ad12aa5e3"
      },
      "execution_count": 59,
      "outputs": [
        {
          "output_type": "display_data",
          "data": {
            "text/plain": [
              "<Figure size 432x288 with 1 Axes>"
            ],
            "image/png": "[encoded data removed]"
          },
          "metadata": {
            "needs_background": "light"
          }
        }
      ]
    },
    {
      "cell_type": "code",
      "source": [
        "x=np.linspace(0,2*np.pi,10)\n",
        "y1=np.sin(x)\n",
        "y2=np.sin(x)+np.cos(x)\n",
        "plt.plot(x,y1,'gp-.',x,y2,'cs:')\n",
        "\n",
        "plt.xticks([0,np.pi,2*np.pi])\n",
        "plt.yticks([-1,0,+1])\n",
        "\n",
        "plt.xlabel('x-axis')\n",
        "plt.ylabel('y-axis')\n",
        "plt.title('Two functions')\n",
        "plt.legend(['sin(x)', 'sin(x)+cos(x)'])\n",
        "plt.show()"
      ],
      "metadata": {
        "colab": {
          "base_uri": "https://localhost:8080/",
          "height": 295
        },
        "id": "mzgz9vKkIg0J",
        "outputId": "b6e70757-f0a4-408c-a3c8-cb146af3b259"
      },
      "execution_count": 61,
      "outputs": [
        {
          "output_type": "display_data",
          "data": {
            "text/plain": [
              "<Figure size 432x288 with 1 Axes>"
            ],
            "image/png": "[encoded data removed]"
          },
          "metadata": {
            "needs_background": "light"
          }
        }
      ]
    },
    {
      "cell_type": "code",
      "source": [
        "x=np.linspace(1,6,6)\n",
        "y=np.array([10,8,4,9,5,2])\n",
        "plt.bar(x,y)\n",
        "plt.xlabel('x-axis')\n",
        "plt.ylabel('y-axis')\n",
        "plt.title('Bar Example')\n",
        "plt.show()"
      ],
      "metadata": {
        "colab": {
          "base_uri": "https://localhost:8080/",
          "height": 295
        },
        "id": "6G5znt_mIw98",
        "outputId": "703ad58d-06ff-4420-aca2-2ae62dee446c"
      },
      "execution_count": 64,
      "outputs": [
        {
          "output_type": "display_data",
          "data": {
            "text/plain": [
              "<Figure size 432x288 with 1 Axes>"
            ],
            "image/png": "[encoded data removed]"
          },
          "metadata": {
            "needs_background": "light"
          }
        }
      ]
    },
    {
      "cell_type": "code",
      "source": [
        "import math\n",
        "math.factorial(5)\n",
        "\n"
      ],
      "metadata": {
        "colab": {
          "base_uri": "https://localhost:8080/"
        },
        "id": "0_4TZ1kgJIAk",
        "outputId": "dfd65ca0-f5e2-445d-ee42-cd3c6cf900f4"
      },
      "execution_count": 74,
      "outputs": [
        {
          "output_type": "execute_result",
          "data": {
            "text/plain": [
              "120"
            ]
          },
          "metadata": {},
          "execution_count": 74
        }
      ]
    },
    {
      "cell_type": "code",
      "source": [
        "import math\n",
        "math.pow(2,3)"
      ],
      "metadata": {
        "colab": {
          "base_uri": "https://localhost:8080/"
        },
        "id": "Jl3Y9p3cKZIg",
        "outputId": "781918a6-1dcc-4d4d-c56f-3add0524935e"
      },
      "execution_count": 75,
      "outputs": [
        {
          "output_type": "execute_result",
          "data": {
            "text/plain": [
              "8.0"
            ]
          },
          "metadata": {},
          "execution_count": 75
        }
      ]
    },
    {
      "cell_type": "code",
      "source": [
        "def func(n):\n",
        "    lv=n+1\n",
        "    print(lv)\n",
        "func(12)"
      ],
      "metadata": {
        "colab": {
          "base_uri": "https://localhost:8080/"
        },
        "id": "G7ToCorlKsGa",
        "outputId": "bdaec6ef-9478-403a-a782-3335bf6c39d9"
      },
      "execution_count": 77,
      "outputs": [
        {
          "output_type": "stream",
          "name": "stdout",
          "text": [
            "13\n"
          ]
        }
      ]
    },
    {
      "cell_type": "code",
      "source": [
        "n=10\n",
        "def func2():\n",
        "    lv=n+1\n",
        "    print(lv)\n",
        "func2()"
      ],
      "metadata": {
        "colab": {
          "base_uri": "https://localhost:8080/"
        },
        "id": "-zkpeZ3LLfu4",
        "outputId": "f08024d2-47fd-4389-cabe-204171ded5e6"
      },
      "execution_count": 80,
      "outputs": [
        {
          "output_type": "stream",
          "name": "stdout",
          "text": [
            "11\n"
          ]
        }
      ]
    },
    {
      "cell_type": "code",
      "source": [
        "n=10\n",
        "def func2():\n",
        "    n=0\n",
        "    lv=n+1\n",
        "    print(lv)\n",
        "func2()"
      ],
      "metadata": {
        "colab": {
          "base_uri": "https://localhost:8080/"
        },
        "id": "bNaMYI-WL246",
        "outputId": "ff11bc23-e086-4b7e-c6bf-7692fd78fc09"
      },
      "execution_count": 83,
      "outputs": [
        {
          "output_type": "stream",
          "name": "stdout",
          "text": [
            "1\n"
          ]
        }
      ]
    },
    {
      "cell_type": "code",
      "source": [
        "print(n)"
      ],
      "metadata": {
        "colab": {
          "base_uri": "https://localhost:8080/"
        },
        "id": "vLvaOW3tMF7-",
        "outputId": "dc978059-2141-44bb-b3fa-87a25b994fe5"
      },
      "execution_count": 82,
      "outputs": [
        {
          "output_type": "stream",
          "name": "stdout",
          "text": [
            "10\n"
          ]
        }
      ]
    },
    {
      "cell_type": "code",
      "source": [
        "n=10\n",
        "def func2():\n",
        "    global n\n",
        "    n=0\n",
        "    lv=n+1\n",
        "    print(lv)\n",
        "func2()"
      ],
      "metadata": {
        "colab": {
          "base_uri": "https://localhost:8080/"
        },
        "id": "28Xy_IUrMIBk",
        "outputId": "8ac7cbdf-466d-41e7-ec4b-dfd422320e08"
      },
      "execution_count": 84,
      "outputs": [
        {
          "output_type": "stream",
          "name": "stdout",
          "text": [
            "1\n"
          ]
        }
      ]
    },
    {
      "cell_type": "code",
      "source": [
        "print(n)"
      ],
      "metadata": {
        "colab": {
          "base_uri": "https://localhost:8080/"
        },
        "id": "IVx9ZS3kMdbx",
        "outputId": "90cdeccf-791c-42b2-d12d-251d83b4b1d9"
      },
      "execution_count": 85,
      "outputs": [
        {
          "output_type": "stream",
          "name": "stdout",
          "text": [
            "0\n"
          ]
        }
      ]
    },
    {
      "cell_type": "code",
      "source": [
        "fa_age=39\n",
        "def up_fa_age():\n",
        "  global fa_age\n",
        "  fa_age += 1\n",
        "\n",
        "def get_fa_age():\n",
        "  return fa_age\n",
        "\n",
        "print(\"2019년\")\n",
        "print(\"아빠:\",get_fa_age())\n",
        "print(\"2020년\")\n",
        "up_fa_age()\n",
        "print(\"아빠:\", get_fa_age())"
      ],
      "metadata": {
        "colab": {
          "base_uri": "https://localhost:8080/"
        },
        "id": "3PnP00xJMgcx",
        "outputId": "dc77cb57-c7fb-4991-baa4-c0214318d3b4"
      },
      "execution_count": 87,
      "outputs": [
        {
          "output_type": "stream",
          "name": "stdout",
          "text": [
            "2019년\n",
            "아빠: 39\n",
            "2020년\n",
            "아빠: 40\n"
          ]
        }
      ]
    },
    {
      "cell_type": "code",
      "source": [
        "class Agelnfo:\n",
        "  def up_age(self):\n",
        "    self.age +=1\n",
        "  def get_age(self):\n",
        "      return self.age"
      ],
      "metadata": {
        "id": "IKU6AHlZMvwX"
      },
      "execution_count": 88,
      "outputs": []
    },
    {
      "cell_type": "code",
      "source": [
        "fa= Agelnfo()\n",
        "fa.age=39\n",
        "\n",
        "print(\"아빠의 나이:\", fa.get_age())\n",
        "\n",
        "print(\"1년 뒤...\")\n",
        "fa.up_age()\n",
        "print(\"아빠의 나이:\", fa.get_age())"
      ],
      "metadata": {
        "colab": {
          "base_uri": "https://localhost:8080/"
        },
        "id": "9wDrPszgN76f",
        "outputId": "22095c15-010a-4fcd-c49e-f263e3249264"
      },
      "execution_count": 91,
      "outputs": [
        {
          "output_type": "stream",
          "name": "stdout",
          "text": [
            "아빠의 나이: 39\n",
            "1년 뒤...\n",
            "아빠의 나이: 40\n"
          ]
        }
      ]
    },
    {
      "cell_type": "code",
      "source": [
        "fa= Agelnfo()\n",
        "mo= Agelnfo()\n",
        "me= Agelnfo()\n",
        "\n",
        "fa.age=50\n",
        "mo.age=49\n",
        "me.age=30\n",
        "\n",
        "print(\"아빠의 나이:\", fa.get_age())\n",
        "print(\"엄마의 나이:\", mo.get_age())\n",
        "print(\"누나의 나이:\", me.get_age())\n",
        "\n",
        "print(\"1년 뒤...\")\n",
        "fa.up_age()\n",
        "mo.up_age()\n",
        "me.up_age()\n",
        "print(\"아빠의 나이:\", fa.get_age())\n",
        "print(\"엄마의 나이:\", mo.get_age())\n",
        "print(\"누나의 나이:\", me.get_age())"
      ],
      "metadata": {
        "colab": {
          "base_uri": "https://localhost:8080/"
        },
        "id": "9PTaISJbOW5k",
        "outputId": "7828155a-4f29-4495-dddd-493925b59b5a"
      },
      "execution_count": 93,
      "outputs": [
        {
          "output_type": "stream",
          "name": "stdout",
          "text": [
            "아빠의 나이: 50\n",
            "엄마의 나이: 49\n",
            "누나의 나이: 30\n",
            "1년 뒤...\n",
            "아빠의 나이: 51\n",
            "엄마의 나이: 50\n",
            "누나의 나이: 31\n"
          ]
        }
      ]
    },
    {
      "cell_type": "code",
      "source": [
        "def up_age(self):\n",
        " self.age +=1\n",
        "fa.up_age()"
      ],
      "metadata": {
        "id": "P93OuxQLXOH6"
      },
      "execution_count": 100,
      "outputs": []
    },
    {
      "cell_type": "code",
      "source": [
        "import math\n",
        "import matplotlib.pyplot as plt\n",
        "class sin_graph:\n",
        "  def generate_x_y(self):\n",
        "    self.x=[]\n",
        "    self.y=[]\n",
        "    self.dx=(self.end-self.st)/(self.n-1)\n",
        "    for i in range(self.n):\n",
        "      x_=self.st+self.dx*i\n",
        "      self.x.append(x_)\n",
        "      self.y.append(math.sin(x_))\n",
        "  def plot(self):\n",
        "    plt.plot(self.x,self.y)\n",
        "    plt.show()\n",
        "\n",
        "g1=sin_graph()\n",
        "g1.st=0\n",
        "g1.end=2*math.pi\n",
        "g1.n=10\n",
        "\n",
        "g1.generate_x_y()\n",
        "g1.plot()"
      ],
      "metadata": {
        "colab": {
          "base_uri": "https://localhost:8080/",
          "height": 265
        },
        "id": "bvFfZn8FX9Iz",
        "outputId": "6fb1a132-8f48-460c-cf9b-a2e021ab9d86"
      },
      "execution_count": 135,
      "outputs": [
        {
          "output_type": "display_data",
          "data": {
            "text/plain": [
              "<Figure size 432x288 with 1 Axes>"
            ],
            "image/png": "[encoded data removed]"
          },
          "metadata": {
            "needs_background": "light"
          }
        }
      ]
    },
    {
      "cell_type": "code",
      "source": [
        "class sin_graph:\n",
        " def setting(self, st, ed, n):\n",
        "   self.st=st\n",
        "   self.ed=ed\n",
        "   self.n=n\n",
        " def generate_x_y(self):\n",
        "    self.x=[]\n",
        "    self.y=[]\n",
        "    self.dx=(self.ed-self.st)/(self.n-1)\n",
        "    for i in range(self.n):\n",
        "      x_=self.st + self.dx*i\n",
        "      self.x.append(x_)\n",
        "      self.y.append(math.sin(x_))\n",
        " def plot(self):\n",
        "  plt.plot(self.x,self.y)\n",
        "  plt.show()\n",
        "g2=sin_graph()\n",
        "g2.setting(0, 4*math.pi, 100)\n",
        "g2.generate_x_y()\n",
        "g2.plot()"
      ],
      "metadata": {
        "colab": {
          "base_uri": "https://localhost:8080/",
          "height": 265
        },
        "id": "IPvJ3BihZtUH",
        "outputId": "cce177c6-e17e-466b-f906-312de04a6ab9"
      },
      "execution_count": 162,
      "outputs": [
        {
          "output_type": "display_data",
          "data": {
            "text/plain": [
              "<Figure size 432x288 with 1 Axes>"
            ],
            "image/png": "[encoded data removed]"
          },
          "metadata": {
            "needs_background": "light"
          }
        }
      ]
    },
    {
      "cell_type": "code",
      "source": [
        "class Const:\n",
        "  def __init__(self):\n",
        "    print(\"new~\")\n",
        "\n",
        "o1 = Const()\n",
        "o2 = Const()"
      ],
      "metadata": {
        "colab": {
          "base_uri": "https://localhost:8080/"
        },
        "id": "LhQim30_cBYK",
        "outputId": "5f9fabb1-cb0f-4856-9466-5052bcdcf6e3"
      },
      "execution_count": 170,
      "outputs": [
        {
          "output_type": "stream",
          "name": "stdout",
          "text": [
            "new~\n",
            "new~\n"
          ]
        }
      ]
    },
    {
      "cell_type": "code",
      "source": [
        "class Const:\n",
        " def __init__(self,n1,n2):\n",
        "   self.n1=n1\n",
        "   self.n2=n2\n",
        " def show_data(self):\n",
        "    print(self.n1,self.n2)\n",
        "\n",
        "o1 = Const(1,2)\n",
        "o2 = Const(3,4)"
      ],
      "metadata": {
        "id": "phnBU6QfeLzS"
      },
      "execution_count": 171,
      "outputs": []
    },
    {
      "cell_type": "code",
      "source": [
        "o1.show_data()\n",
        "o2.show_data()"
      ],
      "metadata": {
        "colab": {
          "base_uri": "https://localhost:8080/"
        },
        "id": "9E2sBu_ZvkSi",
        "outputId": "b05b9470-80ab-40d2-87bd-6176b1c18a37"
      },
      "execution_count": 172,
      "outputs": [
        {
          "output_type": "stream",
          "name": "stdout",
          "text": [
            "1 2\n",
            "3 4\n"
          ]
        }
      ]
    },
    {
      "cell_type": "code",
      "source": [
        "fn=\"I_have_dream.txt\"\n",
        "class text_static:\n",
        "  def processLine(self,line,wordCounts):\n",
        "    line=self.replacePunctuations(line)\n",
        "    words=line.split()\n",
        "    for word in words:\n",
        "      if word in wordCounts:\n",
        "        wordCounts[word]+=1\n",
        "      else:\n",
        "        wordCounts[word]=1\n",
        "  def replacePunctuations(self,line):\n",
        "    for ch in line:\n",
        "      if ch in\" .,;: \":\n",
        "       line=line.replace(ch,\" \")\n",
        "    return line\n",
        "  def wordCounts(self,filename):\n",
        "    f=open(\"I_have_a_dream.txt\",\"r\")\n",
        "    lines=f.readlines()\n",
        "    wordCounts={}\n",
        "    for line in lines:\n",
        "     self.processLine(line.lower(),wordCounts)\n",
        "    return wordCounts\n",
        "  def arrange_pairs(self,wordCounts):\n",
        "    paris=list(wordCounts.items())\n",
        "    items=[[x,y] for (y,x) in paris]\n",
        "    items.sort()\n",
        "    items={x:y for [y,x] in items}\n",
        "    return items\n",
        "\n",
        " \n",
        "\n"
      ],
      "metadata": {
        "id": "3F9DDRLIk1FS"
      },
      "execution_count": 271,
      "outputs": []
    },
    {
      "cell_type": "code",
      "source": [
        "T=text_static()"
      ],
      "metadata": {
        "id": "w0q0GzGMrvWw"
      },
      "execution_count": 272,
      "outputs": []
    },
    {
      "cell_type": "code",
      "source": [
        "wordCounts=T.wordCounts(fn)"
      ],
      "metadata": {
        "id": "YggMOllU0MsZ"
      },
      "execution_count": 273,
      "outputs": []
    },
    {
      "cell_type": "code",
      "source": [
        "wordCounts=T.arrange_pairs(wordCounts)"
      ],
      "metadata": {
        "id": "WqIgchCE0Ska"
      },
      "execution_count": 274,
      "outputs": []
    },
    {
      "cell_type": "code",
      "source": [
        "wordCounts"
      ],
      "metadata": {
        "colab": {
          "base_uri": "https://localhost:8080/"
        },
        "id": "Ot3pYsnf2mPt",
        "outputId": "77118cc7-40ba-4a47-8a93-f9015b94d977"
      },
      "execution_count": 275,
      "outputs": [
        {
          "output_type": "execute_result",
          "data": {
            "text/plain": [
              "{'\"': 2,\n",
              " '\"**': 1,\n",
              " '\"1': 1,\n",
              " '\"for': 1,\n",
              " '\"insufficient': 1,\n",
              " '\"justice': 1,\n",
              " '\"life': 1,\n",
              " '\"unalienable': 1,\n",
              " '\"when': 1,\n",
              " '**we': 1,\n",
              " 'a': 22,\n",
              " 'again': 2,\n",
              " 'ago': 1,\n",
              " 'ahead': 1,\n",
              " 'all': 3,\n",
              " 'allow': 1,\n",
              " 'alone': 1,\n",
              " 'also': 1,\n",
              " 'always': 1,\n",
              " 'am': 1,\n",
              " 'america': 4,\n",
              " 'american': 3,\n",
              " 'an': 3,\n",
              " 'and': 22,\n",
              " 'architects': 1,\n",
              " 'are': 6,\n",
              " 'as': 19,\n",
              " 'asking': 1,\n",
              " 'autumn': 1,\n",
              " 'awakening': 1,\n",
              " 'back': 2,\n",
              " 'bad': 1,\n",
              " 'bank': 1,\n",
              " 'bankrupt': 1,\n",
              " 'basic': 1,\n",
              " 'be': 12,\n",
              " 'beacon': 1,\n",
              " 'been': 1,\n",
              " 'beginning': 1,\n",
              " 'believe': 2,\n",
              " 'believes': 1,\n",
              " 'bitterness': 1,\n",
              " 'black': 1,\n",
              " 'blow': 1,\n",
              " 'bodies': 1,\n",
              " 'bound': 1,\n",
              " 'bright': 1,\n",
              " 'brotherhood': 1,\n",
              " 'brothers': 1,\n",
              " 'brutality': 1,\n",
              " 'business': 1,\n",
              " 'but': 4,\n",
              " 'by': 4,\n",
              " 'came': 2,\n",
              " 'can': 3,\n",
              " 'cannot': 6,\n",
              " 'capital': 1,\n",
              " 'captivity': 1,\n",
              " 'cash': 2,\n",
              " 'chains': 1,\n",
              " 'check': 5,\n",
              " 'children': 2,\n",
              " 'cities': 1,\n",
              " 'citizens': 1,\n",
              " 'citizenship': 1,\n",
              " 'civil': 1,\n",
              " 'color': 1,\n",
              " 'come': 7,\n",
              " 'community': 1,\n",
              " 'concerned': 1,\n",
              " 'condition': 1,\n",
              " 'conduct': 1,\n",
              " 'constitution': 1,\n",
              " 'content': 1,\n",
              " 'continue': 1,\n",
              " 'cooling': 1,\n",
              " 'corners': 1,\n",
              " 'creative': 1,\n",
              " 'crippled': 1,\n",
              " 'cup': 1,\n",
              " 'dark': 1,\n",
              " 'day': 1,\n",
              " 'daybreak': 1,\n",
              " 'declaration': 1,\n",
              " 'decree': 1,\n",
              " 'deeds': 1,\n",
              " 'defaulted': 1,\n",
              " 'degenerate': 1,\n",
              " 'demand': 1,\n",
              " 'democracy': 1,\n",
              " 'demonstration': 1,\n",
              " 'desolate': 1,\n",
              " 'destiny': 2,\n",
              " 'devotees': 1,\n",
              " 'dignity': 2,\n",
              " 'discipline': 1,\n",
              " 'discontent': 1,\n",
              " 'discrimination': 1,\n",
              " 'distrust': 1,\n",
              " 'down': 2,\n",
              " 'dramatize': 1,\n",
              " 'drinking': 1,\n",
              " 'drug': 1,\n",
              " 'emancipation': 1,\n",
              " 'emerges': 1,\n",
              " 'end': 2,\n",
              " 'engage': 1,\n",
              " 'engulfed': 1,\n",
              " 'equality': 1,\n",
              " 'every': 1,\n",
              " 'evidenced': 1,\n",
              " 'exile': 1,\n",
              " 'fall': 1,\n",
              " 'fatal': 1,\n",
              " 'fatigue': 1,\n",
              " 'fierce': 1,\n",
              " 'finds': 1,\n",
              " 'five': 1,\n",
              " 'flames': 1,\n",
              " 'for': 6,\n",
              " 'force': 2,\n",
              " 'forever': 1,\n",
              " 'foundations': 1,\n",
              " 'free': 1,\n",
              " 'freedom': 6,\n",
              " 'from': 4,\n",
              " 'funds': 2,\n",
              " 'gain': 1,\n",
              " 'gaining': 1,\n",
              " 'ghetto': 1,\n",
              " 'give': 1,\n",
              " 'given': 1,\n",
              " 'go': 1,\n",
              " \"god's\": 1,\n",
              " 'gradualism': 1,\n",
              " 'granted': 1,\n",
              " 'great': 3,\n",
              " 'greatest': 1,\n",
              " 'guaranteed': 1,\n",
              " 'guilty': 1,\n",
              " 'had': 1,\n",
              " 'hallowed': 1,\n",
              " 'happiness': 1,\n",
              " 'happy': 1,\n",
              " 'has': 5,\n",
              " 'hatred': 1,\n",
              " 'have': 4,\n",
              " 'he': 1,\n",
              " 'heavy': 1,\n",
              " 'heights': 1,\n",
              " 'heir': 1,\n",
              " 'her': 1,\n",
              " 'here': 2,\n",
              " 'high': 1,\n",
              " 'highways': 1,\n",
              " 'himself': 1,\n",
              " 'his': 2,\n",
              " 'history': 2,\n",
              " 'honoring': 1,\n",
              " 'hope': 2,\n",
              " 'horrors': 1,\n",
              " 'hotels': 1,\n",
              " 'hundred': 4,\n",
              " 'i': 2,\n",
              " 'if': 1,\n",
              " 'in': 16,\n",
              " 'independence': 1,\n",
              " 'inextricably': 1,\n",
              " 'injustice': 2,\n",
              " 'insofar': 1,\n",
              " 'instead': 1,\n",
              " 'insufficient': 1,\n",
              " 'into': 2,\n",
              " 'invigorating': 1,\n",
              " 'is': 18,\n",
              " 'island': 1,\n",
              " 'it': 3,\n",
              " 'join': 1,\n",
              " 'joyous': 1,\n",
              " 'justice': 6,\n",
              " 'land': 1,\n",
              " 'languished': 1,\n",
              " 'larger': 1,\n",
              " 'later': 4,\n",
              " 'lead': 1,\n",
              " 'leads': 1,\n",
              " 'legitimate': 1,\n",
              " 'let': 1,\n",
              " 'liberty': 1,\n",
              " 'life': 1,\n",
              " 'lift': 1,\n",
              " 'light': 1,\n",
              " 'like': 2,\n",
              " 'lives': 1,\n",
              " 'lodging': 1,\n",
              " 'lonely': 1,\n",
              " 'long': 6,\n",
              " 'luxury': 1,\n",
              " 'magnificent': 1,\n",
              " 'majestic': 1,\n",
              " 'make': 3,\n",
              " 'manacles': 1,\n",
              " 'many': 1,\n",
              " 'march': 1,\n",
              " 'marked': 1,\n",
              " 'marvelous': 1,\n",
              " 'material': 1,\n",
              " 'meeting': 1,\n",
              " 'men': 3,\n",
              " 'midst': 1,\n",
              " 'mighty': 1,\n",
              " 'militancy': 1,\n",
              " 'millions': 1,\n",
              " 'mississippi': 1,\n",
              " 'mobility': 1,\n",
              " 'moment': 1,\n",
              " 'momentous': 1,\n",
              " 'motels': 1,\n",
              " 'must': 7,\n",
              " 'my': 1,\n",
              " 'nation': 6,\n",
              " \"nation's\": 1,\n",
              " 'needed': 1,\n",
              " 'negro': 12,\n",
              " \"negro's\": 2,\n",
              " 'neither': 1,\n",
              " 'never': 3,\n",
              " 'new': 2,\n",
              " 'night': 1,\n",
              " 'nineteen': 1,\n",
              " 'no': 3,\n",
              " 'nor': 1,\n",
              " 'not': 9,\n",
              " 'note': 3,\n",
              " 'nothing': 1,\n",
              " 'now': 6,\n",
              " 'obligation': 1,\n",
              " 'obvious': 1,\n",
              " 'ocean': 1,\n",
              " 'of': 56,\n",
              " 'off': 2,\n",
              " 'on': 4,\n",
              " 'one': 5,\n",
              " 'only': 1,\n",
              " 'opportunity': 1,\n",
              " 'or': 1,\n",
              " 'our': 14,\n",
              " 'overlook': 1,\n",
              " 'own': 1,\n",
              " 'palace': 1,\n",
              " 'pass': 1,\n",
              " 'path': 1,\n",
              " 'people': 3,\n",
              " 'physical': 2,\n",
              " 'place': 1,\n",
              " 'plane': 1,\n",
              " 'pledge': 1,\n",
              " 'police': 1,\n",
              " 'poverty': 1,\n",
              " 'presence': 1,\n",
              " 'process': 1,\n",
              " 'proclamation': 1,\n",
              " 'promise': 1,\n",
              " 'promises': 1,\n",
              " 'promissory': 2,\n",
              " 'prosperity': 1,\n",
              " 'protest': 1,\n",
              " 'pursuit': 1,\n",
              " 'quicksands': 1,\n",
              " 'racial': 2,\n",
              " 'real': 1,\n",
              " 'reality': 1,\n",
              " 'realize': 2,\n",
              " 'refuse': 2,\n",
              " 'remind': 1,\n",
              " 'republic': 1,\n",
              " 'rest': 1,\n",
              " 'returns': 1,\n",
              " 'revolt': 1,\n",
              " 'riches': 1,\n",
              " 'righteousness': 1,\n",
              " 'rightful': 1,\n",
              " 'rights': 2,\n",
              " 'rights\"': 1,\n",
              " 'rise': 2,\n",
              " 'robbed': 1,\n",
              " 'rock': 1,\n",
              " 'rolls': 1,\n",
              " 'rude': 1,\n",
              " 'sacred': 1,\n",
              " 'sadly': 1,\n",
              " 'satisfied': 7,\n",
              " 'satisfied?\"': 1,\n",
              " 'satisfy': 1,\n",
              " 'say': 1,\n",
              " 'score': 1,\n",
              " 'seared': 1,\n",
              " 'security': 1,\n",
              " 'seek': 1,\n",
              " 'segregation': 2,\n",
              " 'self-hood': 1,\n",
              " 'sense': 1,\n",
              " 'shadow': 1,\n",
              " 'shake': 1,\n",
              " 'shall': 1,\n",
              " 'shameful': 1,\n",
              " 'signed': 1,\n",
              " 'signing': 1,\n",
              " 'signs': 1,\n",
              " 'sixty-three': 1,\n",
              " 'slaves': 1,\n",
              " 'smaller': 1,\n",
              " 'so': 2,\n",
              " 'society': 1,\n",
              " 'solid': 1,\n",
              " 'something': 1,\n",
              " 'soul': 1,\n",
              " 'spot': 1,\n",
              " 'stand': 2,\n",
              " 'stating': 1,\n",
              " 'steam': 1,\n",
              " 'still': 3,\n",
              " 'stream': 1,\n",
              " 'stripped': 1,\n",
              " 'struggle': 1,\n",
              " 'summer': 1,\n",
              " 'sunlit': 1,\n",
              " 'sweltering': 1,\n",
              " 'symbolic': 1,\n",
              " 'take': 1,\n",
              " 'that': 10,\n",
              " 'the': 66,\n",
              " 'their': 6,\n",
              " 'there': 5,\n",
              " 'they': 2,\n",
              " 'thirst': 1,\n",
              " 'this': 9,\n",
              " 'those': 2,\n",
              " 'threshold': 1,\n",
              " 'tied': 1,\n",
              " 'time': 5,\n",
              " 'to': 35,\n",
              " 'today': 5,\n",
              " 'tranquility': 1,\n",
              " 'tranquilizing': 1,\n",
              " 'travel': 1,\n",
              " 'turn': 1,\n",
              " 'unspeakable': 1,\n",
              " 'until': 4,\n",
              " 'up': 1,\n",
              " 'upon': 1,\n",
              " 'urgency': 2,\n",
              " 'us': 3,\n",
              " 'usual': 1,\n",
              " 'valley': 1,\n",
              " 'vast': 1,\n",
              " 'vaults': 1,\n",
              " 'victim': 1,\n",
              " 'violence': 1,\n",
              " 'vote': 2,\n",
              " 'walk': 2,\n",
              " 'warm': 1,\n",
              " 'was': 2,\n",
              " 'waters': 1,\n",
              " 'we': 19,\n",
              " \"we've\": 3,\n",
              " 'well': 1,\n",
              " 'were': 1,\n",
              " 'what': 1,\n",
              " 'when': 1,\n",
              " 'which': 5,\n",
              " 'whirlwinds': 1,\n",
              " 'white': 3,\n",
              " 'whites': 1,\n",
              " 'who': 4,\n",
              " 'whose': 1,\n",
              " 'will': 9,\n",
              " 'with': 4,\n",
              " 'withering': 1,\n",
              " 'words': 1,\n",
              " 'would': 2,\n",
              " 'wrongful': 1,\n",
              " 'wrote': 1,\n",
              " 'years': 5,\n",
              " 'yes': 1,\n",
              " 'york': 1,\n",
              " 'you': 2}"
            ]
          },
          "metadata": {},
          "execution_count": 275
        }
      ]
    }
  ]
}